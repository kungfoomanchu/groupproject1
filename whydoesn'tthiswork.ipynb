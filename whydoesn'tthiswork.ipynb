{
 "cells": [
  {
   "cell_type": "code",
   "execution_count": 3,
   "metadata": {},
   "outputs": [],
   "source": [
    "import pandas as pd"
   ]
  },
  {
   "cell_type": "code",
   "execution_count": 5,
   "metadata": {},
   "outputs": [
    {
     "name": "stdout",
     "output_type": "stream",
     "text": [
      "This is the example data\n",
      "[[{'NAME': 'Birmingham city, Alabama', 'B19013_001E': 31445.0, 'B01003_001E': 212295.0, 'B01002_001E': 35.9, 'B19301_001E': 19650.0, 'B17001_002E': 62258.0, 'B23025_005E': 15397.0, 'state': '01', 'place': '07000'}], [{'NAME': 'Hoover city, Alabama', 'B19013_001E': 75020.0, 'B01003_001E': 82264.0, 'B01002_001E': 36.7, 'B19301_001E': 38457.0, 'B17001_002E': 5537.0, 'B23025_005E': 2795.0, 'state': '01', 'place': '35896'}], [{'NAME': 'Huntsville city, Alabama', 'B19013_001E': 48881.0, 'B01003_001E': 182317.0, 'B01002_001E': 36.7, 'B19301_001E': 30916.0, 'B17001_002E': 29494.0, 'B23025_005E': 11036.0, 'state': '01', 'place': '37000'}], [{'NAME': 'Mobile city, Alabama', 'B19013_001E': 38644.0, 'B01003_001E': 195116.0, 'B01002_001E': 35.5, 'B19301_001E': 23385.0, 'B17001_002E': 43928.0, 'B23025_005E': 12229.0, 'state': '01', 'place': '50000'}], [{'NAME': 'Montgomery city, Alabama', 'B19013_001E': 43702.0, 'B01003_001E': 204760.0, 'B01002_001E': 34.2, 'B19301_001E': 24365.0, 'B17001_002E': 44774.0, 'B23025_005E': 8940.0, 'state': '01', 'place': '51000'}]]\n",
      "\n",
      "from records\n",
      "                                                   0\n",
      "0  {'NAME': 'Birmingham city, Alabama', 'B19013_0...\n",
      "1  {'NAME': 'Hoover city, Alabama', 'B19013_001E'...\n",
      "2  {'NAME': 'Huntsville city, Alabama', 'B19013_0...\n",
      "3  {'NAME': 'Mobile city, Alabama', 'B19013_001E'...\n",
      "4  {'NAME': 'Montgomery city, Alabama', 'B19013_0...\n",
      "\n",
      "from dict\n",
      "                                                   0\n",
      "0  {'NAME': 'Birmingham city, Alabama', 'B19013_0...\n",
      "1  {'NAME': 'Hoover city, Alabama', 'B19013_001E'...\n",
      "2  {'NAME': 'Huntsville city, Alabama', 'B19013_0...\n",
      "3  {'NAME': 'Mobile city, Alabama', 'B19013_001E'...\n",
      "4  {'NAME': 'Montgomery city, Alabama', 'B19013_0...\n",
      "\n",
      "regular\n",
      "                                                   0\n",
      "0  {'NAME': 'Birmingham city, Alabama', 'B19013_0...\n",
      "1  {'NAME': 'Hoover city, Alabama', 'B19013_001E'...\n",
      "2  {'NAME': 'Huntsville city, Alabama', 'B19013_0...\n",
      "3  {'NAME': 'Mobile city, Alabama', 'B19013_001E'...\n",
      "4  {'NAME': 'Montgomery city, Alabama', 'B19013_0...\n"
     ]
    }
   ],
   "source": [
    "example_data = [[{'NAME': 'Birmingham city, Alabama', 'B19013_001E': 31445.0, 'B01003_001E': 212295.0, 'B01002_001E': 35.9, 'B19301_001E': 19650.0, 'B17001_002E': 62258.0, 'B23025_005E': 15397.0, 'state': '01', 'place': '07000'}], [{'NAME': 'Hoover city, Alabama', 'B19013_001E': 75020.0, 'B01003_001E': 82264.0, 'B01002_001E': 36.7, 'B19301_001E': 38457.0, 'B17001_002E': 5537.0, 'B23025_005E': 2795.0, 'state': '01', 'place': '35896'}], [{'NAME': 'Huntsville city, Alabama', 'B19013_001E': 48881.0, 'B01003_001E': 182317.0, 'B01002_001E': 36.7, 'B19301_001E': 30916.0, 'B17001_002E': 29494.0, 'B23025_005E': 11036.0, 'state': '01', 'place': '37000'}], [{'NAME': 'Mobile city, Alabama', 'B19013_001E': 38644.0, 'B01003_001E': 195116.0, 'B01002_001E': 35.5, 'B19301_001E': 23385.0, 'B17001_002E': 43928.0, 'B23025_005E': 12229.0, 'state': '01', 'place': '50000'}], [{'NAME': 'Montgomery city, Alabama', 'B19013_001E': 43702.0, 'B01003_001E': 204760.0, 'B01002_001E': 34.2, 'B19301_001E': 24365.0, 'B17001_002E': 44774.0, 'B23025_005E': 8940.0, 'state': '01', 'place': '51000'}]]\n",
    "print(\"This is the example data\")\n",
    "print(example_data)\n",
    "print(\"\")\n",
    "\n",
    "# # Convert to DataFrame\n",
    "census_data_test_fromrecords = pd.DataFrame.from_records(example_data)\n",
    "census_data_test_fromdict = pd.DataFrame.from_dict(example_data)\n",
    "census_data_test_regular = pd.DataFrame(example_data)\n",
    "\n",
    "print(\"from records\")\n",
    "print(census_data_test_fromrecords)\n",
    "print(\"\")\n",
    "print(\"from dict\")\n",
    "print(census_data_test_fromdict)\n",
    "print(\"\")\n",
    "print(\"regular\")\n",
    "print(census_data_test_regular)\n",
    "\n"
   ]
  }
 ],
 "metadata": {
  "kernelspec": {
   "display_name": "Python 3",
   "language": "python",
   "name": "python3"
  },
  "language_info": {
   "codemirror_mode": {
    "name": "ipython",
    "version": 3
   },
   "file_extension": ".py",
   "mimetype": "text/x-python",
   "name": "python",
   "nbconvert_exporter": "python",
   "pygments_lexer": "ipython3",
   "version": "3.7.1"
  }
 },
 "nbformat": 4,
 "nbformat_minor": 2
}
