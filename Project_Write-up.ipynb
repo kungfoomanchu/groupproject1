{
 "cells": [
  {
   "cell_type": "markdown",
   "metadata": {},
   "source": [
    "# City Data for Better Health, Write Up"
   ]
  },
  {
   "cell_type": "markdown",
   "metadata": {},
   "source": [
    "## Our Data and Questions\n",
    "\n",
    "We began with the 500 cities data released by the CDC in 2018. This data measured 27 indicators of health related to unhealthy behaviors, preventative health measures, and health outcomes (in the form of chronic disease). The data was from the 500 largest U.S. cities, from 2015 and 2016.\n",
    "\n",
    "The data source had aggregations at the census tract (zip code based), city, and state level. We decided to focus on the city level.\n",
    "\n",
    "Our first question: What factors impact health outcomes? More specifically:\n",
    "* Does obesity related to negative health outcomes?\n",
    "* Does sleep relate to negative health outcomes?\n",
    "* What is the relationship between economic conditions and health?"
   ]
  },
  {
   "cell_type": "markdown",
   "metadata": {},
   "source": [
    "## Preparing our Data\n",
    "\n",
    "Our data preparation aimed at:\n",
    "* Reducing the data size\n",
    "* Removing extraneous columns\n",
    "* Combining the 500 cities with census data\n",
    "* Outputting a csv file that the group could use for analysis\n",
    "\n",
    "Though several other groups struggled with getting and using the government census data, as well as the weather data, we were fortunate to figure out how to overcome those issues (though we ended up not using weather data for the presentation).\n",
    "\n",
    "The data preparation code can be seen in the file \"Dataframe_With_Weather.ipynb\", and the ultimate output that we used for visualizations was \"merged_wc5.csv\"."
   ]
  },
  {
   "cell_type": "markdown",
   "metadata": {},
   "source": [
    "## Our Analysis\n",
    "\n",
    "Our first question was deliberately designed to be obvious, in order to test our expectations against an unfamiliar data source. As expected, we found an extremely strong correlation between obesity and our selected negative health outcomes (coronary heart disease, diabetes, and high blood pressure). The correlation output supports this conclusion.\n",
    "\n",
    "<img src=\"./output/corr01.png\">"
   ]
  },
  {
   "cell_type": "markdown",
   "metadata": {},
   "source": [
    "Our next question concerned sleep, and since we had already examined obesity, we first compared those two metrics. Though there appears to be a relationship, it is not as strong.\n",
    "\n",
    "<img src=\"./output/corr02.png\">"
   ]
  },
  {
   "cell_type": "markdown",
   "metadata": {},
   "source": [
    "We then compared lack of sleep to negative health outcomes. Though the relationship again is not as strong, it is still a significant, positive relationship.\n",
    "\n",
    "<img src=\"./output/corr03.png\">"
   ]
  },
  {
   "cell_type": "markdown",
   "metadata": {},
   "source": [
    "## Investigating the hidden economic factors\n",
    "\n",
    "We then asked ourselves if there was another factor present in the data that influenced both negative health outcomes and sleep. Since many of the health factors we observed are preventable, why aren't they being prevented? Although there are several health preventative measures in the data (doctor visits, screening), for expediency we focused on lack of health insurance. We observed a moderate, positive relationship between lack of health insurance and negative health outcomes we've examined previously.\n",
    "\n",
    "<img src=\"./output/corr04.png\">"
   ]
  },
  {
   "cell_type": "markdown",
   "metadata": {},
   "source": [
    "Then we wanted to know what could be behind a lack of insurance, so we compared that with economic factors from the census data. There was, surprisingly, only a weak relationship between unemployment and lack of insurance. But the relationship between lack of insurance and poverty and household income was moderate (negative in the case of household income).\n",
    "\n",
    "<img src=\"./output/corr05.png\">"
   ]
  },
  {
   "cell_type": "markdown",
   "metadata": {},
   "source": [
    "Could sleep be related to the same economic factors? The data suggests a moderate relationship.\n",
    "\n",
    "<img src=\"./output/corr06.png\">\n",
    "\n"
   ]
  },
  {
   "cell_type": "markdown",
   "metadata": {},
   "source": [
    "## Conclusion\n",
    "\n",
    "Since we observed a relationship between economic conditions and lack of health insurance, and between lack of health insurance and negative health outcomes, we can conclude that economic conditions are a factor in poor health. \n",
    "\n",
    "However, the relationship between economic considerations and poor sleep is only moderate, whereas the relationship between poor sleep and poor health is stronger. This suggests that, even outside of economic concerns, sleep may have a more significant impact on health. This is possible due to the physical impact of lack of sleep on the body, which would occur whether or not you have health insurance, and regardless of your economic status."
   ]
  },
  {
   "cell_type": "markdown",
   "metadata": {},
   "source": [
    "## Lessons Learned\n",
    "\n",
    "We would have liked to do more intense, statistical analysis, but lacked both the time and the required skills. \n",
    "\n",
    "We struggled with such a large and complex dataset. There were many distracting squirrels to chase!\n",
    "\n",
    "Despite the note above, we wish we could have examined other census data, like age, ethnicity, and gender. Also, we would have liked to look at other preventative health measures like screenings and doctor visits, as well as negative behaviors, such as binge drinking and smoking."
   ]
  },
  {
   "cell_type": "code",
   "execution_count": null,
   "metadata": {},
   "outputs": [],
   "source": []
  }
 ],
 "metadata": {
  "kernelspec": {
   "display_name": "Python 3",
   "language": "python",
   "name": "python3"
  },
  "language_info": {
   "codemirror_mode": {
    "name": "ipython",
    "version": 3
   },
   "file_extension": ".py",
   "mimetype": "text/x-python",
   "name": "python",
   "nbconvert_exporter": "python",
   "pygments_lexer": "ipython3",
   "version": "3.7.1"
  }
 },
 "nbformat": 4,
 "nbformat_minor": 2
}
