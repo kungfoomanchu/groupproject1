{
 "cells": [
  {
   "cell_type": "markdown",
   "metadata": {},
   "source": [
    "# Google Map Visualization"
   ]
  },
  {
   "cell_type": "code",
   "execution_count": 8,
   "metadata": {},
   "outputs": [],
   "source": [
    "# Dependencies\n",
    "from census import Census\n",
    "# from config import (census_api_key, gkey)\n",
    "import gmaps\n",
    "import numpy as np\n",
    "import pandas as pd\n",
    "import requests\n",
    "import time\n",
    "from us import states\n",
    "\n",
    "# Census API Key\n",
    "c = Census(census_api_key, year=2013)\n",
    "\n",
    "# Configure gmaps with API key\n",
    "gmaps.configure(api_key=gkey)"
   ]
  },
  {
   "cell_type": "code",
   "execution_count": 11,
   "metadata": {
    "collapsed": true
   },
   "outputs": [
    {
     "data": {
      "text/plain": [
       "Unnamed: 0                    14028\n",
       "Average Temperature           12712\n",
       "Historic Low Temp             12712\n",
       "Average High Temp             12712\n",
       "Average Low Temp              12712\n",
       "Historic High Temp            12712\n",
       "State_x                       12712\n",
       "City                          12712\n",
       "CityFIPS                      14028\n",
       "State_y                       14000\n",
       "Place                         14000\n",
       "Name                          14000\n",
       "Population                    14000\n",
       "Median Age                    14000\n",
       "Household Income              14000\n",
       "Per Capita Income             14000\n",
       "Poverty Count                 14000\n",
       "Poverty Rate                  14000\n",
       "Unemployment Rate             14000\n",
       "Year                          14028\n",
       "StateAbbr                     14028\n",
       "StateDesc                     14028\n",
       "CityName                      14028\n",
       "GeographicLevel               14028\n",
       "DataSource                    14028\n",
       "Category                      14028\n",
       "UniqueID                      14028\n",
       "Measure                       14028\n",
       "Data_Value_Unit               14028\n",
       "DataValueTypeID               14028\n",
       "Data_Value_Type               14028\n",
       "Data_Value                    13981\n",
       "Low_Confidence_Limit          13981\n",
       "High_Confidence_Limit         13981\n",
       "Data_Value_Footnote_Symbol       47\n",
       "Data_Value_Footnote              47\n",
       "PopulationCount               14028\n",
       "GeoLocation                   14028\n",
       "CategoryID                    14028\n",
       "MeasureId                     14028\n",
       "TractFIPS                         0\n",
       "Short_Question_Text           14028\n",
       "Count_of_Individuals          13981\n",
       "dtype: int64"
      ]
     },
     "execution_count": 11,
     "metadata": {},
     "output_type": "execute_result"
    }
   ],
   "source": [
    "merged_wc5_csv_for_google_df = pd.read_csv(\"output/merged_wc5.csv\", encoding=\"ISO-8859-1\")\n",
    "# wc5_csv_for_google_df = wc5_csv_for_google_df.loc[:, [\"StateDesc\",\"CityName\",\"PopulationCount\",\"GeoLocation\",\"CityFIPS\"]]\n",
    "# wc5_csv_for_google_df = wc5_csv_for_google_df.drop_duplicates()\n",
    "merged_wc5_csv_for_google_df.count()"
   ]
  },
  {
   "cell_type": "code",
   "execution_count": 12,
   "metadata": {},
   "outputs": [
    {
     "data": {
      "text/plain": [
       "lat         14028\n",
       "long        14028\n",
       "CityFIPS    14028\n",
       "dtype: int64"
      ]
     },
     "execution_count": 12,
     "metadata": {},
     "output_type": "execute_result"
    }
   ],
   "source": [
    "google_df = []\n",
    "google_df = pd.DataFrame()\n",
    "google_df[\"lat\"] = \"\"\n",
    "google_df[\"long\"] = \"\"\n",
    "google_df[\"CityFIPS\"] = \"\"\n",
    "\n",
    "lat_series = []\n",
    "long_series = []\n",
    "\n",
    "for index, row in merged_wc5_csv_for_google_df.iterrows():\n",
    "    latlong = str(row[\"GeoLocation\"])\n",
    "    try:\n",
    "        # (33.5275663773, -86.7988174678)\n",
    "        lat = latlong.split(\", \")[0]\n",
    "        long = latlong.split(\", \")[1]\n",
    "        lat = lat.replace(\"(\",\"\")\n",
    "        long = long.replace(\")\",\"\")\n",
    "        google_df.loc[index, \"lat\"] = lat\n",
    "        google_df.loc[index, \"long\"] = long\n",
    "        google_df.loc[index, \"CityFIPS\"] = row[\"CityFIPS\"]\n",
    "#         print(f\"{lat} and {long}\")\n",
    "\n",
    "    except Exception as e:\n",
    "        print(f\"{index} This skipped\")\n",
    "google_df.count()"
   ]
  },
  {
   "cell_type": "code",
   "execution_count": 14,
   "metadata": {
    "collapsed": true
   },
   "outputs": [
    {
     "data": {
      "text/plain": [
       "Unnamed: 0                    500\n",
       "Average Temperature           453\n",
       "Historic Low Temp             453\n",
       "Average High Temp             453\n",
       "Average Low Temp              453\n",
       "Historic High Temp            453\n",
       "State_x                       453\n",
       "City                          453\n",
       "CityFIPS                      500\n",
       "State_y                       499\n",
       "Place                         499\n",
       "Name                          499\n",
       "Population                    499\n",
       "Median Age                    499\n",
       "Household Income              499\n",
       "Per Capita Income             499\n",
       "Poverty Count                 499\n",
       "Poverty Rate                  499\n",
       "Unemployment Rate             499\n",
       "Year                          500\n",
       "StateAbbr                     500\n",
       "StateDesc                     500\n",
       "CityName                      500\n",
       "GeographicLevel               500\n",
       "DataSource                    500\n",
       "Category                      500\n",
       "UniqueID                      500\n",
       "Measure                       500\n",
       "Data_Value_Unit               500\n",
       "DataValueTypeID               500\n",
       "Data_Value_Type               500\n",
       "Data_Value                    500\n",
       "Low_Confidence_Limit          500\n",
       "High_Confidence_Limit         500\n",
       "Data_Value_Footnote_Symbol      0\n",
       "Data_Value_Footnote             0\n",
       "PopulationCount               500\n",
       "GeoLocation                   500\n",
       "CategoryID                    500\n",
       "MeasureId                     500\n",
       "TractFIPS                       0\n",
       "Short_Question_Text           500\n",
       "Count_of_Individuals          500\n",
       "dtype: int64"
      ]
     },
     "execution_count": 14,
     "metadata": {},
     "output_type": "execute_result"
    }
   ],
   "source": [
    "# Get google_df to have the right number of rows\n",
    "google_df = google_df.drop_duplicates(subset = [\"CityFIPS\"])\n",
    "google_df.count()\n",
    "\n",
    "# Get merged_wc5_csv_for_google_df to have the right number of rows\n",
    "merged_wc5_csv_for_google_df = merged_wc5_csv_for_google_df.drop_duplicates(subset = [\"CityFIPS\"])\n",
    "merged_wc5_csv_for_google_df.count()"
   ]
  },
  {
   "cell_type": "code",
   "execution_count": 15,
   "metadata": {},
   "outputs": [
    {
     "name": "stdout",
     "output_type": "stream",
     "text": [
      "lat     500\n",
      "long    500\n",
      "dtype: int64\n"
     ]
    },
    {
     "data": {
      "text/plain": [
       "0        29.326173\n",
       "28        6.730769\n",
       "56       16.177318\n",
       "84       22.513787\n",
       "112      21.866575\n",
       "140      23.776511\n",
       "168       7.747674\n",
       "196      17.033510\n",
       "224       9.089325\n",
       "252       6.675538\n",
       "280      20.244124\n",
       "308      15.536620\n",
       "336       9.831883\n",
       "364      22.494451\n",
       "392       9.184739\n",
       "420      20.901167\n",
       "448      24.149114\n",
       "476      15.662976\n",
       "504      23.394884\n",
       "532      24.530624\n",
       "560      23.092297\n",
       "588      18.332889\n",
       "616      23.450812\n",
       "644      13.800881\n",
       "672      15.905917\n",
       "700      14.740232\n",
       "728      20.047288\n",
       "756      20.244079\n",
       "784      17.336336\n",
       "812      16.982946\n",
       "           ...    \n",
       "13188    29.665577\n",
       "13216    31.483592\n",
       "13244    15.373709\n",
       "13272    19.318356\n",
       "13300     6.131274\n",
       "13328    16.792512\n",
       "13356    12.445023\n",
       "13384    19.218719\n",
       "13412    16.633541\n",
       "13440    21.863071\n",
       "13468    19.518131\n",
       "13496    28.091920\n",
       "13524    20.854497\n",
       "13552    11.873514\n",
       "13580    15.456541\n",
       "13608    22.381830\n",
       "13636    22.263467\n",
       "13664    12.739351\n",
       "13692    18.592973\n",
       "13720    18.787213\n",
       "13748     8.024982\n",
       "13776    22.197005\n",
       "13804    17.821635\n",
       "13832    16.783229\n",
       "13860    19.242386\n",
       "13888     7.780359\n",
       "13916     8.295323\n",
       "13944    16.008598\n",
       "13972    17.482204\n",
       "14000    16.304818\n",
       "Name: Poverty Rate, Length: 500, dtype: float64"
      ]
     },
     "execution_count": 15,
     "metadata": {},
     "output_type": "execute_result"
    }
   ],
   "source": [
    "# Store 'Lat' and 'Lng' into  locations \n",
    "# locations = census_data_complete[[\"Lat\", \"Lng\"]].astype(float)\n",
    "locations = google_df[[\"lat\",\"long\"]].astype(float)\n",
    "\n",
    "print(locations.count())\n",
    "\n",
    "# Convert Poverty Rate to float and store\n",
    "# HINT: be sure to handle NaN values\n",
    "poverty_rate = merged_wc5_csv_for_google_df[\"Poverty Rate\"].astype(float)\n",
    "poverty_rate = poverty_rate.drop_duplicates()\n",
    "poverty_rate"
   ]
  },
  {
   "cell_type": "code",
   "execution_count": 19,
   "metadata": {},
   "outputs": [
    {
     "data": {
      "application/vnd.jupyter.widget-view+json": {
       "model_id": "1dd8629bc9f34d09ac9cb07d82f38bba",
       "version_major": 2,
       "version_minor": 0
      },
      "text/plain": [
       "Figure(layout=FigureLayout(height='420px'))"
      ]
     },
     "metadata": {},
     "output_type": "display_data"
    }
   ],
   "source": [
    "# Create a poverty Heatmap layer\n",
    "fig = gmaps.figure()\n",
    "\n",
    "heat_layer = gmaps.heatmap_layer(locations, weights=poverty_rate, \n",
    "                                 dissipating=False, max_intensity=100,\n",
    "                                 point_radius = 1)\n",
    "\n",
    "# Adjust heat_layer setting to help with heatmap dissipating on zoom\n",
    "heat_layer.dissipating = False\n",
    "heat_layer.max_intensity = 100\n",
    "heat_layer.point_radius = 1\n",
    "\n",
    "fig.add_layer(heat_layer)\n",
    "\n",
    "fig"
   ]
  }
 ],
 "metadata": {
  "kernelspec": {
   "display_name": "Python 3",
   "language": "python",
   "name": "python3"
  },
  "language_info": {
   "codemirror_mode": {
    "name": "ipython",
    "version": 3
   },
   "file_extension": ".py",
   "mimetype": "text/x-python",
   "name": "python",
   "nbconvert_exporter": "python",
   "pygments_lexer": "ipython3",
   "version": "3.7.1"
  }
 },
 "nbformat": 4,
 "nbformat_minor": 2
}
