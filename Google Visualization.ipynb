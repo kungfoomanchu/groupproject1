{
 "cells": [
  {
   "cell_type": "markdown",
   "metadata": {},
   "source": [
    "# Google Map Visualization"
   ]
  },
  {
   "cell_type": "code",
   "execution_count": 2,
   "metadata": {},
   "outputs": [],
   "source": [
    "# Dependencies\n",
    "from census import Census\n",
    "# from config import (census_api_key, gkey)\n",
    "import gmaps\n",
    "import numpy as np\n",
    "import pandas as pd\n",
    "import requests\n",
    "import time\n",
    "from us import states\n",
    "from ipywidgets.embed import embed_minimal_html\n",
    "\n",
    "# Census API Key\n",
    "c = Census(census_api_key, year=2013)\n",
    "\n",
    "# Configure gmaps with API key\n",
    "gmaps.configure(api_key=gkey)"
   ]
  },
  {
   "cell_type": "code",
   "execution_count": 3,
   "metadata": {},
   "outputs": [
    {
     "data": {
      "text/plain": [
       "Unnamed: 0               484\n",
       "Average Temperature      484\n",
       "Historic Low Temp        484\n",
       "Average High Temp        484\n",
       "Average Low Temp         484\n",
       "Historic High Temp       484\n",
       "State_x                  484\n",
       "City                     484\n",
       "CityFIPS                 484\n",
       "State_y                  484\n",
       "Place                    484\n",
       "Name                     484\n",
       "Population               484\n",
       "Median Age               484\n",
       "Household Income         484\n",
       "Per Capita Income        484\n",
       "Poverty Count            484\n",
       "Poverty Rate             484\n",
       "Unemployment Rate        484\n",
       "Year                     484\n",
       "StateAbbr                484\n",
       "StateDesc                484\n",
       "CityName                 484\n",
       "GeographicLevel          484\n",
       "DataSource               484\n",
       "Category                 484\n",
       "UniqueID                 484\n",
       "Measure                  484\n",
       "Data_Value_Unit          484\n",
       "DataValueTypeID          484\n",
       "Data_Value_Type          484\n",
       "Data_Value               484\n",
       "Low_Confidence_Limit     484\n",
       "High_Confidence_Limit    484\n",
       "PopulationCount          484\n",
       "GeoLocation              484\n",
       "CategoryID               484\n",
       "MeasureId                484\n",
       "Short_Question_Text      484\n",
       "Count_of_Individuals     484\n",
       "dtype: int64"
      ]
     },
     "execution_count": 3,
     "metadata": {},
     "output_type": "execute_result"
    }
   ],
   "source": [
    "just_cities_merged = pd.read_csv(\"output/just_cities_merged.csv\", encoding=\"ISO-8859-1\")\n",
    "# merged_wc5_csv_for_google_df = merged_wc5_csv_for_google_df.loc[:, [\"StateDesc\",\"CityName\",\"PopulationCount\",\"GeoLocation\",\"Poverty Rate\",\"CityFIPS\"]]\n",
    "# merged_wc5_csv_for_google_df = merged_wc5_csv_for_google_df.drop_duplicates()\n",
    "# merged_wc5_csv_for_google_df.count()\n",
    "# merged_wc5_csv_for_google_df.to_csv(\"output/google_data_df.csv\")\n",
    "just_cities_merged.count()"
   ]
  },
  {
   "cell_type": "code",
   "execution_count": 4,
   "metadata": {},
   "outputs": [
    {
     "data": {
      "text/plain": [
       "lat         484\n",
       "long        484\n",
       "CityFIPS    484\n",
       "dtype: int64"
      ]
     },
     "execution_count": 4,
     "metadata": {},
     "output_type": "execute_result"
    }
   ],
   "source": [
    "google_df = []\n",
    "google_df = pd.DataFrame()\n",
    "google_df[\"lat\"] = \"\"\n",
    "google_df[\"long\"] = \"\"\n",
    "google_df[\"CityFIPS\"] = \"\"\n",
    "\n",
    "lat_series = []\n",
    "long_series = []\n",
    "\n",
    "for index, row in just_cities_merged.iterrows():\n",
    "    latlong = str(row[\"GeoLocation\"])\n",
    "    try:\n",
    "        # (33.5275663773, -86.7988174678)\n",
    "        lat = latlong.split(\", \")[0]\n",
    "        long = latlong.split(\", \")[1]\n",
    "        lat = lat.replace(\"(\",\"\")\n",
    "        long = long.replace(\")\",\"\")\n",
    "        google_df.loc[index, \"lat\"] = lat\n",
    "        google_df.loc[index, \"long\"] = long\n",
    "        google_df.loc[index, \"CityFIPS\"] = row[\"CityFIPS\"]\n",
    "#         print(f\"{lat} and {long}\")\n",
    "\n",
    "    except Exception as e:\n",
    "        print(f\"{index} This skipped\")\n",
    "google_df.count()"
   ]
  },
  {
   "cell_type": "code",
   "execution_count": 5,
   "metadata": {},
   "outputs": [
    {
     "data": {
      "text/plain": [
       "lat         484\n",
       "long        484\n",
       "CityFIPS    484\n",
       "dtype: int64"
      ]
     },
     "execution_count": 5,
     "metadata": {},
     "output_type": "execute_result"
    }
   ],
   "source": [
    "# Get google_df to have the right number of rows\n",
    "google_df = google_df.drop_duplicates(subset = [\"CityFIPS\"])\n",
    "google_df.count()\n",
    "\n",
    "# Get merged_wc5_csv_for_google_df to have the right number of rows\n"
   ]
  },
  {
   "cell_type": "code",
   "execution_count": 6,
   "metadata": {},
   "outputs": [
    {
     "name": "stdout",
     "output_type": "stream",
     "text": [
      "lat     484\n",
      "long    484\n",
      "dtype: int64\n"
     ]
    },
    {
     "data": {
      "text/plain": [
       "484"
      ]
     },
     "execution_count": 6,
     "metadata": {},
     "output_type": "execute_result"
    }
   ],
   "source": [
    "# Store 'Lat' and 'Lng' into  locations \n",
    "# locations = census_data_complete[[\"Lat\", \"Lng\"]].astype(float)\n",
    "locations = google_df[[\"lat\",\"long\"]].astype(float)\n",
    "\n",
    "print(locations.count())\n",
    "\n",
    "# Convert Poverty Rate to float and store\n",
    "# HINT: be sure to handle NaN values\n",
    "poverty_rate = just_cities_merged[\"Poverty Rate\"].astype(float)\n",
    "poverty_rate.count()"
   ]
  },
  {
   "cell_type": "code",
   "execution_count": null,
   "metadata": {},
   "outputs": [],
   "source": [
    "# how to get gmaps to work\n",
    "# https://ipywidgets.readthedocs.io/en/stable/user_install.html and do one of the   installations and then run\n",
    "#     `jupyter nbextension enable --py --sys-prefix gmaps` "
   ]
  },
  {
   "cell_type": "code",
   "execution_count": 7,
   "metadata": {},
   "outputs": [
    {
     "data": {
      "application/vnd.jupyter.widget-view+json": {
       "model_id": "47da7f5b166e4ca3b9ba4045bd42eb70",
       "version_major": 2,
       "version_minor": 0
      },
      "text/plain": [
       "Figure(layout=FigureLayout(height='420px'))"
      ]
     },
     "metadata": {},
     "output_type": "display_data"
    }
   ],
   "source": [
    "# Create a poverty Heatmap layer\n",
    "fig = gmaps.figure()\n",
    "\n",
    "heat_layer = gmaps.heatmap_layer(locations, weights=poverty_rate, \n",
    "                                 dissipating=False, max_intensity=100,\n",
    "                                 point_radius = 1)\n",
    "\n",
    "# Adjust heat_layer setting to help with heatmap dissipating on zoom\n",
    "heat_layer.dissipating = False\n",
    "heat_layer.max_intensity = 100\n",
    "heat_layer.point_radius = 1\n",
    "\n",
    "fig.add_layer(heat_layer)\n",
    "\n",
    "fig"
   ]
  },
  {
   "cell_type": "code",
   "execution_count": null,
   "metadata": {},
   "outputs": [],
   "source": [
    "embed_minimal_html('output/exportmap.html', views=[fig])"
   ]
  },
  {
   "cell_type": "code",
   "execution_count": 8,
   "metadata": {},
   "outputs": [
    {
     "name": "stdout",
     "output_type": "stream",
     "text": [
      "lat     484\n",
      "long    484\n",
      "dtype: int64\n"
     ]
    },
    {
     "data": {
      "text/plain": [
       "484"
      ]
     },
     "execution_count": 8,
     "metadata": {},
     "output_type": "execute_result"
    }
   ],
   "source": [
    "# Store 'Lat' and 'Lng' into  locations \n",
    "# locations = census_data_complete[[\"Lat\", \"Lng\"]].astype(float)\n",
    "locations = google_df[[\"lat\",\"long\"]].astype(float)\n",
    "\n",
    "print(locations.count())\n",
    "\n",
    "# Convert Poverty Rate to float and store\n",
    "# HINT: be sure to handle NaN values\n",
    "avg_temp_google = just_cities_merged[\"Average Temperature\"].astype(float)\n",
    "avg_temp_google.count()"
   ]
  },
  {
   "cell_type": "code",
   "execution_count": 9,
   "metadata": {},
   "outputs": [
    {
     "data": {
      "application/vnd.jupyter.widget-view+json": {
       "model_id": "443694a7679c464383f674e762f23a87",
       "version_major": 2,
       "version_minor": 0
      },
      "text/plain": [
       "Figure(layout=FigureLayout(height='420px'))"
      ]
     },
     "metadata": {},
     "output_type": "display_data"
    }
   ],
   "source": [
    "# Create a poverty Heatmap layer\n",
    "fig = gmaps.figure()\n",
    "\n",
    "heat_layer = gmaps.heatmap_layer(locations, weights=avg_temp_google, \n",
    "                                 dissipating=False, max_intensity=100,\n",
    "                                 point_radius = 1)\n",
    "\n",
    "# Adjust heat_layer setting to help with heatmap dissipating on zoom\n",
    "heat_layer.dissipating = False\n",
    "heat_layer.max_intensity = 100\n",
    "heat_layer.point_radius = 1\n",
    "\n",
    "fig.add_layer(heat_layer)\n",
    "\n",
    "fig"
   ]
  },
  {
   "cell_type": "code",
   "execution_count": 10,
   "metadata": {},
   "outputs": [],
   "source": [
    "wc5_df = pd.read_csv(\"output/merged_wc5.csv\", encoding=\"ISO-8859-1\")\n",
    "wc5_df = wc5_df.dropna()"
   ]
  },
  {
   "cell_type": "code",
   "execution_count": 13,
   "metadata": {},
   "outputs": [
    {
     "name": "stdout",
     "output_type": "stream",
     "text": [
      "lat     484\n",
      "long    484\n",
      "dtype: int64\n"
     ]
    },
    {
     "data": {
      "text/plain": [
       "500"
      ]
     },
     "execution_count": 13,
     "metadata": {},
     "output_type": "execute_result"
    }
   ],
   "source": [
    "# Store 'Lat' and 'Lng' into  locations \n",
    "# locations = census_data_complete[[\"Lat\", \"Lng\"]].astype(float)\n",
    "locations = google_df[[\"lat\",\"long\"]].astype(float)\n",
    "\n",
    "print(locations.count())\n",
    "\n",
    "# Convert Poverty Rate to float and store\n",
    "# HINT: be sure to handle NaN values\n",
    "insurance_df = wc5_df.loc[wc5_df[\"Short_Question_Text\"] == \"Health Insurance\"]\n",
    "\n",
    "insurance = insurance_df[\"Data_Value\"].astype(float)\n",
    "insurance.count()"
   ]
  },
  {
   "cell_type": "code",
   "execution_count": 16,
   "metadata": {},
   "outputs": [
    {
     "ename": "ValueError",
     "evalue": "weights must be of the same length as locations or None",
     "output_type": "error",
     "traceback": [
      "\u001b[1;31m---------------------------------------------------------------------------\u001b[0m",
      "\u001b[1;31mValueError\u001b[0m                                Traceback (most recent call last)",
      "\u001b[1;32m<ipython-input-16-5a5ad71daa4b>\u001b[0m in \u001b[0;36m<module>\u001b[1;34m\u001b[0m\n\u001b[0;32m      4\u001b[0m heat_layer = gmaps.heatmap_layer(locations, weights=insurance, \n\u001b[0;32m      5\u001b[0m                                  \u001b[0mdissipating\u001b[0m\u001b[1;33m=\u001b[0m\u001b[1;32mFalse\u001b[0m\u001b[1;33m,\u001b[0m \u001b[0mmax_intensity\u001b[0m\u001b[1;33m=\u001b[0m\u001b[1;36m100\u001b[0m\u001b[1;33m,\u001b[0m\u001b[1;33m\u001b[0m\u001b[1;33m\u001b[0m\u001b[0m\n\u001b[1;32m----> 6\u001b[1;33m                                  point_radius = 1)\n\u001b[0m\u001b[0;32m      7\u001b[0m \u001b[1;33m\u001b[0m\u001b[0m\n\u001b[0;32m      8\u001b[0m \u001b[1;31m# Adjust heat_layer setting to help with heatmap dissipating on zoom\u001b[0m\u001b[1;33m\u001b[0m\u001b[1;33m\u001b[0m\u001b[1;33m\u001b[0m\u001b[0m\n",
      "\u001b[1;32m~\\anaconda\\Anaconda3\\envs\\PythonData\\lib\\site-packages\\gmaps\\heatmap.py\u001b[0m in \u001b[0;36mheatmap_layer\u001b[1;34m(locations, weights, max_intensity, dissipating, point_radius, opacity, gradient)\u001b[0m\n\u001b[0;32m    264\u001b[0m     widget_args, is_weighted = _heatmap_options(\n\u001b[0;32m    265\u001b[0m         \u001b[0mlocations\u001b[0m\u001b[1;33m,\u001b[0m \u001b[0mweights\u001b[0m\u001b[1;33m,\u001b[0m \u001b[0mmax_intensity\u001b[0m\u001b[1;33m,\u001b[0m \u001b[0mdissipating\u001b[0m\u001b[1;33m,\u001b[0m \u001b[0mpoint_radius\u001b[0m\u001b[1;33m,\u001b[0m\u001b[1;33m\u001b[0m\u001b[1;33m\u001b[0m\u001b[0m\n\u001b[1;32m--> 266\u001b[1;33m         \u001b[0mopacity\u001b[0m\u001b[1;33m,\u001b[0m \u001b[0mgradient\u001b[0m\u001b[1;33m\u001b[0m\u001b[1;33m\u001b[0m\u001b[0m\n\u001b[0m\u001b[0;32m    267\u001b[0m     )\n\u001b[0;32m    268\u001b[0m     \u001b[1;32mif\u001b[0m \u001b[0mis_weighted\u001b[0m\u001b[1;33m:\u001b[0m\u001b[1;33m\u001b[0m\u001b[1;33m\u001b[0m\u001b[0m\n",
      "\u001b[1;32m~\\anaconda\\Anaconda3\\envs\\PythonData\\lib\\site-packages\\gmaps\\heatmap.py\u001b[0m in \u001b[0;36m_heatmap_options\u001b[1;34m(locations, weights, max_intensity, dissipating, point_radius, opacity, gradient)\u001b[0m\n\u001b[0;32m    207\u001b[0m         \u001b[1;32mif\u001b[0m \u001b[0mlen\u001b[0m\u001b[1;33m(\u001b[0m\u001b[0mweights\u001b[0m\u001b[1;33m)\u001b[0m \u001b[1;33m!=\u001b[0m \u001b[0mlen\u001b[0m\u001b[1;33m(\u001b[0m\u001b[0mlocations\u001b[0m\u001b[1;33m)\u001b[0m\u001b[1;33m:\u001b[0m\u001b[1;33m\u001b[0m\u001b[1;33m\u001b[0m\u001b[0m\n\u001b[0;32m    208\u001b[0m             raise ValueError(\n\u001b[1;32m--> 209\u001b[1;33m                 'weights must be of the same length as locations or None')\n\u001b[0m\u001b[0;32m    210\u001b[0m         \u001b[0mis_weighted\u001b[0m \u001b[1;33m=\u001b[0m \u001b[1;32mTrue\u001b[0m\u001b[1;33m\u001b[0m\u001b[1;33m\u001b[0m\u001b[0m\n\u001b[0;32m    211\u001b[0m         widget_args = {\n",
      "\u001b[1;31mValueError\u001b[0m: weights must be of the same length as locations or None"
     ]
    }
   ],
   "source": [
    "# Create a poverty Heatmap layer\n",
    "fig = gmaps.figure()\n",
    "\n",
    "heat_layer = gmaps.heatmap_layer(locations, weights=insurance, \n",
    "                                 dissipating=False, max_intensity=100,\n",
    "                                 point_radius = 1)\n",
    "\n",
    "# Adjust heat_layer setting to help with heatmap dissipating on zoom\n",
    "heat_layer.dissipating = False\n",
    "heat_layer.max_intensity = 100\n",
    "heat_layer.point_radius = 1\n",
    "\n",
    "fig.add_layer(heat_layer)\n",
    "\n",
    "fig"
   ]
  }
 ],
 "metadata": {
  "kernelspec": {
   "display_name": "Python 3",
   "language": "python",
   "name": "python3"
  },
  "language_info": {
   "codemirror_mode": {
    "name": "ipython",
    "version": 3
   },
   "file_extension": ".py",
   "mimetype": "text/x-python",
   "name": "python",
   "nbconvert_exporter": "python",
   "pygments_lexer": "ipython3",
   "version": "3.7.1"
  }
 },
 "nbformat": 4,
 "nbformat_minor": 2
}
